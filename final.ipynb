{
 "cells": [
  {
   "cell_type": "markdown",
   "id": "e77fa889-b245-4731-8d30-0227e4a9abcb",
   "metadata": {},
   "source": [
    "# Analysis of Vehicular Accidents in the United States"
   ]
  },
  {
   "cell_type": "markdown",
   "id": "0ea6184e-a074-40d0-89b3-c9baa21d7f7f",
   "metadata": {},
   "source": [
    "## Introduction"
   ]
  },
  {
   "cell_type": "code",
   "execution_count": null,
   "id": "e0888f37-5c71-4b94-931f-ea6df3871a04",
   "metadata": {},
   "outputs": [],
   "source": []
  }
 ],
 "metadata": {
  "kernelspec": {
   "display_name": "Python 3 (ipykernel)",
   "language": "python",
   "name": "python3"
  },
  "language_info": {
   "codemirror_mode": {
    "name": "ipython",
    "version": 3
   },
   "file_extension": ".py",
   "mimetype": "text/x-python",
   "name": "python",
   "nbconvert_exporter": "python",
   "pygments_lexer": "ipython3",
   "version": "3.11.9"
  }
 },
 "nbformat": 4,
 "nbformat_minor": 5
}
